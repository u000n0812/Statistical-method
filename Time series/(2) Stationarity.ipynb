{
 "cells": [
  {
   "cell_type": "markdown",
   "id": "621b0aad",
   "metadata": {},
   "source": [
    "TSA는 주로 stationary한 시계열을 다룬다. non-stationary하면 stationary하게 바꾼 후 분석한다. 따라서 분석 전에 stationarity를 확인해봐야 한다."
   ]
  },
  {
   "cell_type": "markdown",
   "id": "c384d967",
   "metadata": {},
   "source": [
    "# (1) Stationarity"
   ]
  },
  {
   "cell_type": "markdown",
   "id": "2235a721",
   "metadata": {},
   "source": [
    "### (A) Strong stationarity"
   ]
  },
  {
   "cell_type": "markdown",
   "id": "08c34794",
   "metadata": {},
   "source": [
    "시계열 {$Z_t, t \\geq 1$}에 대해 **($Z_1, Z_2, \\cdots Z_m$)과 ($Z_{1+k}, \\cdots , Z_{m+k}$)가 동일한 결합확률 분포**를 가지는 경우 **strong stationary time series**라 부른다.  \n",
    "\n",
    "Strong stationarity가 성립하고 1st & 2nd moment가 finite이면 아래 4가지 성질을 갖는다.  \n",
    "1) $E(Z_t) = \\mu, \\quad t \\geq 1$  \n",
    "2) $Var(Z_t) = \\sigma_Z^2 = \\gamma(0), \\quad t \\geq 1$  \n",
    "3) $Cov(Z_t, Z_{t-k}) = Cov(Z_{t+k}, Z_t) = \\gamma(k), \\quad t \\geq 1$  \n",
    "4) $Corr(Z_t, Z_{t-k}) = Corr(Z_{t+k}, Z_t) = \\gamma(k)/\\gamma(0) = \\rho(k), \\quad t \\geq 1$  \n",
    "\n",
    "\n",
    "시계열 ($Z_1, \\cdots , Z_m$)에 대한 **autocovariance matrix**는 아래와 같다.\n",
    "\n",
    "$$\n",
    "\\Gamma = \\begin{bmatrix}\n",
    "Var(Z_1) & Cov(Z_1, Z_2) & \\cdots & Cov(Z_1,Z_m) \\\\\n",
    "Cov(Z_1,Z_2) & Var(Z_2) & \\cdots & Cov(Z_2, Z_m) \\\\\n",
    "\\vdots & \\vdots & \\ddots & \\vdots \\\\\n",
    "Cov(Z_1, Z_m) & Cov(Z_2, Z_m) & \\cdots & Var(Z_m)\n",
    "\\end{bmatrix} = \\begin{bmatrix}\n",
    "\\gamma(0) & \\gamma(1) & \\cdots & \\gamma(m-1) \\\\\n",
    "\\gamma(1) & \\gamma(0) & \\cdots & \\gamma(m-2) \\\\\n",
    "\\vdots & \\vdots & \\ddots & \\vdots \\\\\n",
    "\\gamma(m-1) & \\gamma(m-2) & \\cdots & \\gamma(0)\n",
    "\\end{bmatrix}\n",
    "$$  \n",
    "\n",
    "비슷하게 **autocorrelation matrix**는 아래와 같다.  \n",
    "\n",
    "$$\n",
    "R = \\begin{bmatrix}\n",
    "1 & \\rho(1) & \\cdots & \\rho(m-1) \\\\\n",
    "\\rho(1) & 1 & \\cdots & \\rho(m-2) \\\\\n",
    "\\vdots & \\vdots & \\ddots & \\vdots \\\\\n",
    "\\rho(m-1) & \\rho(m-2) & \\cdots & 1\n",
    "\\end{bmatrix}\n",
    "$$  \n",
    "\n",
    "정상 시계열의 모든 m값에 대해 autocovariance matrix와 autocorrelation matrix는 **positive definite**이다. 즉, 모든 principal minor의 행렬식이 0보다 크다."
   ]
  },
  {
   "cell_type": "markdown",
   "id": "38f30197",
   "metadata": {},
   "source": [
    "### (B) Weak Stationarity"
   ]
  },
  {
   "cell_type": "markdown",
   "id": "a9b7f12b",
   "metadata": {},
   "source": [
    "시계열 {$Z_t, \\quad t \\geq 1$}에 대해 **기댓값이 시간에 대해 일정**하고, **어떤 두 시점의 공분산이 시간 간격에만 의존하고 finite**할 때 **weak stationarity 또는 covariance stationarity**를 갖고 있다고 한다.  \n",
    "\n",
    "일반적으로 strong stationarity가 성립하면 weak stationarity도 성립한다(역은 성립 x)   \n",
    "**시계열 분석에서는 주로 weak stationarity를 가정하고, 편의상 시계열 기댓값은 0으로 가정한다.**"
   ]
  },
  {
   "cell_type": "markdown",
   "id": "0f7bf0d8",
   "metadata": {},
   "source": [
    "# (2) Autocorrelation Function ( ACF )"
   ]
  },
  {
   "cell_type": "markdown",
   "id": "dc772d7a",
   "metadata": {},
   "source": [
    "정상적 시계열도 일반적으로 다루기 어렵기 때문에, 특정 형태의 정상 시계열을 주로 다룬다. 즉, **Autoregressive process**나 **Moving-average process** 등을 다루는데, 이들의 형태를 구분하는 수단으로 **ACF**와 **PACF**를 사용한다.  \n",
    "\n",
    "시계열은 하나의 변수에 대한 시간에 따른 값이기에 두 변수는 다른 시점의 값에 해당한다. *auto(자기)* 라는 말을 쓰는 이유는 시계열이 하나의 변수이기 때문이고, *function* 을 사용하는 이유는 자기공분산 또는 자기상관계수가 시차(lag)에 따라 다르기 때문이다.\n",
    "\n",
    "ACF를 정의하기 위해 **Autocovariance function**을 먼저 정의해야 한다. covariance를 이용해 correlation을 정의하는 것과 비슷하다. 시차 $k$에 대한 autocovariance는 다음과 같이 계산된다.  \n",
    "\n",
    "$$\n",
    "\\gamma(k) = Cov(Z_t, z_{t-k}) = E(Z_tZ_{t-k}), \\quad k=1,2,\\cdots\n",
    "$$\n",
    "\n",
    "시계열 $Z_t$가 정상성을 따른다고 가정하기 때문에, 여기서 $\\gamma(k)$는 시점 $t$와 무관하다. 그리고 위에서 말한대로 $E(Z_t) = E(Z_{t-l}) = 0$이라고 가정했기에, $\\gamma(k)$는 $k$의 함수이므로 이를 **autocovariance function** 라고 부른다. $\\gamma(k) = \\gamma(-k)$가 성립하며, 특히 $k=0$이면 $\\gamma(0) = Var(Z_t) = E(Z_t^2)$, 즉 **분산**이 된다.  \n",
    "\n",
    "이때, ACF는 아래와 같이 정의된다."
   ]
  },
  {
   "cell_type": "markdown",
   "id": "4f248de4",
   "metadata": {},
   "source": [
    "### (A) ACF"
   ]
  },
  {
   "cell_type": "markdown",
   "id": "d9793528",
   "metadata": {},
   "source": [
    "$$\n",
    "\\rho(k) = Corr(Z_t, Z_{t-k}) = \\frac{Cov(Z_t, Z_{t-k}}{\\sqrt[2]{Var(Z_t)Var(Z_{t-k})}} = \\frac{\\gamma(k)}{\\gamma(0)}\n",
    "$$\n",
    "\n",
    "$\\rho(k)$가 시차 $k$의 함수이기 때문에 autocorrelation function이라고 부른다. 시게열이 정상적이기 때문에 위 식에서 $Var(Z_t) = Var(Z_{t-k})$이다.  \n",
    "\n",
    "관측된 데이터 $(z_1, z_2, \\cdots , z_n)$에 대해 **sample autocorrelation function**은 아래와 같이 추정된다.  \n",
    "\n",
    "$$\n",
    "\\hat{\\rho}(k) = \\frac{\\hat{\\gamma}(k)}{\\hat{\\gamma}(0)}, \\quad k=1, 2, \\cdots\n",
    "$$  \n",
    "\n",
    "여기서 sample variance는  \n",
    "$$\n",
    "\\hat{\\gamma}(0) = \\frac{1}{n-1}\\sum_{i=1}^n (z_i - \\bar{z})^2\n",
    "$$  \n",
    "\n",
    "이고, 시차 $k$의 sample covariance는  아래와 같다.\n",
    "\n",
    "$$\n",
    "\\hat{\\gamma}(k) = \\frac{1}{n-k-1} \\sum_{i=k+1}^n (z_i-\\bar{z})(z_{i-k}-\\bar{z}), \\quad z=1, 2, \\cdots\n",
    "$$"
   ]
  },
  {
   "cell_type": "markdown",
   "id": "8c9fefd9",
   "metadata": {},
   "source": [
    "# (3) Partial autocorrelation function (PACF)"
   ]
  },
  {
   "cell_type": "markdown",
   "id": "8320ded5",
   "metadata": {},
   "source": [
    "시차 $k$가 있는 $Z_k$와 $Z_{t-k}$ 간의 상관 계수는 그 사이에 있는 $Z_{t-1}, Z_{t-2}, \\cdots$에 의해 영향을 받을 수 있다. 그래서 **중간 시점 값들의 영향을 제외하고 순수한 $Z_t$와 $Z_{t-k}$의 상관계수**를 **Partial autocorrelation**이라고 부른다. 이는 아래와 같이 표현된다.  \n",
    "\n",
    "$$\n",
    "P(k) = Corr(Z_t, Z_{t-k}|Z_{t-1}, \\cdots, Z_{t-k-1}), \\quad k=1, 2, \\cdots\n",
    "$$  \n",
    "\n",
    "위의 함수 또한 $k$에 대한 함수이므로, **Partial autocorrelation function ; PACF**라고 부른다. $k=1$인 경우 편자기상관계수와 자기상관계수는 동일하다. 즉, $P(1) = \\rho(1)$  \n",
    "\n",
    "시차 $k$의 편자기상관계수는 아래 회귀 모형의 계수 $\\phi_{kk}$와 동일하다.  \n",
    "\n",
    "$$\n",
    "Z_t = \\phi{k1}Z_{t-1} + \\cdots + \\phi_{kk}Z_{t-k} + b_t, \\quad k = 1, 2, \\cdots,\n",
    "$$\n",
    "where $b_t$ : error term  "
   ]
  },
  {
   "cell_type": "markdown",
   "id": "f7f269dc",
   "metadata": {},
   "source": [
    "한편, 자기상관함수로부터 편자기상관함수를 얻을 수 있다. 또한 시계열 데이터로부터 표본편자기상관계수 또는 표본편자기상관함수를 추정할 수 있다.  \n",
    "\n",
    "시차 $k$ ($k \\geq 2$)의 편자기상관계수 $P(k)$는 다음 방정식의 미지수 $\\phi_{kk}$와 동일하다. \n",
    "\n",
    "$$\n",
    "\\begin{bmatrix}\n",
    "\\rho(1) \\\\\n",
    "\\rho(2) \\\\\n",
    "\\vdots \\\\\n",
    "\\rho(k)\n",
    "\\end{bmatrix} = \\begin{bmatrix}\n",
    "1 & \\rho(1) & \\cdots & \\rho(k-1) \\\\\n",
    "\\rho(1) & 1 & \\cdots & \\rho(k-2) \\\\\n",
    "\\vdots & \\vdots & \\ddots & \\vdots \\\\\n",
    "\\rho(k-1) & \\rho(k-2) & \\cdots & 1\n",
    "\\end{bmatrix}\n",
    "\\begin{bmatrix}\n",
    "\\phi_{k1}  \\\\\n",
    "\\phi_{k2}\\\\\n",
    "\\vdots \\\\\n",
    "\\phi_{kk}\n",
    "\\end{bmatrix}\n",
    "$$  \n",
    "\n",
    "즉,  \n",
    "\n",
    "$$\n",
    "P(k) = \\begin{bmatrix}\n",
    "1 & \\rho(1) & \\cdots & \\rho(k-2) & \\rho(1)\\\\\n",
    "\\rho(1) & 1 & \\cdots & \\rho(k-3) & \\rho(2) \\\\\n",
    "\\vdots & \\vdots & \\ddots & \\vdots & \\vdots \\\\\n",
    "\\rho(k-1) & \\rho(k-2) & \\cdots & \\rho(1) & \\rho(k)\n",
    "\\end{bmatrix}/\n",
    "\\begin{bmatrix}\n",
    "1 & \\rho(1) & \\cdots & \\rho(k-2) & \\rho(k-1)\\\\\n",
    "\\rho(1) & 1 & \\cdots & \\rho(k-3) & \\rho(k-2)\\\\\n",
    "\\vdots & \\vdots & \\ddots & \\vdots & \\vdots \\\\\n",
    "\\rho(k-1) & \\rho(k-2) & \\cdots & \\rho(1) & 1\n",
    "\\end{bmatrix}\n",
    "$$  \n",
    "\n",
    "위 $P(k)$의 $\\rho$ 대신 $\\hat{\\rho}$를 사용하면 표본편자기상관함수를 추정할 수 있다.  \n",
    "\n",
    "추가로 **Levinson-Durbin 알고리즘**은 표본자기상관계수로부터 표본편자기상관계수를 구하는 반복적 알고리즘인데, 효율적인 것으로 알려져 있다."
   ]
  },
  {
   "cell_type": "markdown",
   "id": "99fc682b",
   "metadata": {},
   "source": [
    "# (4) Expression"
   ]
  },
  {
   "cell_type": "markdown",
   "id": "b15e01a4",
   "metadata": {},
   "source": [
    "Time series process는 2가지 방식으로 표현이 가능하다.\n",
    "- **Autoregressive Process(AR)** : 시점 $t$의 값을 과거 시점 값을 이용한 **회귀식**으로 표현  \n",
    "- **Moving average Process(MA)** : 시점 $t$의 값을 현재와 과거 시점의 **오차항**으로 표현"
   ]
  },
  {
   "cell_type": "markdown",
   "id": "31daa895",
   "metadata": {},
   "source": [
    "### (A) AR Model"
   ]
  },
  {
   "cell_type": "markdown",
   "id": "6a4d7679",
   "metadata": {},
   "source": [
    "AR 표현 방식은 아래 식으로 기술된다.  \n",
    "\n",
    "$$\n",
    "Z_t = \\pi_1Z_{t-1} + \\pi_2Z_{t-2} + \\cdots + a_t\n",
    "$$  \n",
    "\n",
    "$\\pi_1, \\pi_2$ 등은 정상성을 만족시키기 위한 상수이고, $a_t$는 시점 $t$에 부가되는 오차항(White noise)이다.  \n",
    "\n",
    "한편, **후진연산자(Backward shift operator)** 를 쓰면 현재 시점의 값으로 과거 시점의 값을 표현할 수 있는데, 구체적으로는 아래와 같다.  \n",
    "\n",
    "$$\n",
    "Z_{t-1} = BZ_t \\\\\n",
    "Z_{t-k} = B^kZ_t, \\quad k=1,2,\\cdots\n",
    "$$  \n",
    "\n",
    "만약 AR 표현 방식을 후진 연산자를 이용하여 표현하자면 아래와 같다.\n",
    "\n",
    "$$\n",
    "Z_t = (\\pi_1B + \\pi_2B^2 + \\cdots)Z_t + a_t, \\quad or \\\\\n",
    "a_t = (1 - \\pi_1B - \\pi_2B^2 - \\cdots)Z_t\n",
    "$$"
   ]
  },
  {
   "cell_type": "markdown",
   "id": "3632e0d3",
   "metadata": {},
   "source": [
    "### (B) MA Model"
   ]
  },
  {
   "cell_type": "markdown",
   "id": "43eedf49",
   "metadata": {},
   "source": [
    "MA 표현 방식은 아래 식으로 기술된다.  \n",
    "\n",
    "$$\n",
    "Z_t = a_t - \\psi_1a_{t-1} - \\psi_2a_{t-2} - \\cdots, \\quad or \\\\\n",
    "Z_t = (1 - \\psi_1B - \\psi_2B^2 - \\cdots)a_t\n",
    "$$  \n",
    "\n",
    "즉, 오차항으로만 $Z_t$를 표현할 수 있다. 여기서 $\\psi_1, \\psi_2$ 등도 역시 정상성을 만족시키기 위한 상수이다. 구체적인 정상성 조건은 다음 장에서 보자"
   ]
  }
 ],
 "metadata": {
  "kernelspec": {
   "display_name": "Python 3 (ipykernel)",
   "language": "python",
   "name": "python3"
  },
  "language_info": {
   "codemirror_mode": {
    "name": "ipython",
    "version": 3
   },
   "file_extension": ".py",
   "mimetype": "text/x-python",
   "name": "python",
   "nbconvert_exporter": "python",
   "pygments_lexer": "ipython3",
   "version": "3.9.7"
  }
 },
 "nbformat": 4,
 "nbformat_minor": 5
}
